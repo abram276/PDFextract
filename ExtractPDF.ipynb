{
 "cells": [
  {
   "cell_type": "markdown",
   "id": "f4fd09af-2556-4f1a-b8b1-92b23cf74866",
   "metadata": {},
   "source": [
    "<div class=\"alert alert-block alert-danger\">\n",
    "<b>NOTE:</b> Installation of libraries only needs to be run once at setup.\n",
    "</div>"
   ]
  },
  {
   "cell_type": "code",
   "execution_count": 39,
   "id": "b9863860-2e38-4f3f-8f20-2645cb6dc912",
   "metadata": {},
   "outputs": [
    {
     "name": "stdout",
     "output_type": "stream",
     "text": [
      "Collecting package metadata (current_repodata.json): ...working... done\n",
      "Solving environment: ...working... done\n",
      "\n",
      "# All requested packages already installed.\n",
      "\n",
      "\n",
      "Note: you may need to restart the kernel to use updated packages.\n"
     ]
    }
   ],
   "source": [
    "conda install pandas"
   ]
  },
  {
   "cell_type": "code",
   "execution_count": 40,
   "id": "ab90d776-069b-4e27-9088-0354927dd5f2",
   "metadata": {},
   "outputs": [
    {
     "name": "stdout",
     "output_type": "stream",
     "text": [
      "Collecting package metadata (current_repodata.json): ...working... done\n",
      "Solving environment: ...working... done\n",
      "\n",
      "# All requested packages already installed.\n",
      "\n",
      "\n",
      "Note: you may need to restart the kernel to use updated packages.\n"
     ]
    }
   ],
   "source": [
    "conda install regex"
   ]
  },
  {
   "cell_type": "code",
   "execution_count": 41,
   "id": "52d71f52-3810-438a-a46b-7374dfde2e3a",
   "metadata": {},
   "outputs": [
    {
     "name": "stdout",
     "output_type": "stream",
     "text": [
      "Requirement already satisfied: pdfplumber in c:\\users\\abram\\miniconda3\\envs\\myenv\\lib\\site-packages (0.5.28)\n",
      "Requirement already satisfied: pdfminer.six==20200517 in c:\\users\\abram\\miniconda3\\envs\\myenv\\lib\\site-packages (from pdfplumber) (20200517)\n",
      "Requirement already satisfied: Wand in c:\\users\\abram\\miniconda3\\envs\\myenv\\lib\\site-packages (from pdfplumber) (0.6.7)\n",
      "Requirement already satisfied: Pillow>=7.0.0 in c:\\users\\abram\\miniconda3\\envs\\myenv\\lib\\site-packages (from pdfplumber) (8.4.0)Note: you may need to restart the kernel to use updated packages.\n",
      "\n",
      "Requirement already satisfied: sortedcontainers in c:\\users\\abram\\miniconda3\\envs\\myenv\\lib\\site-packages (from pdfminer.six==20200517->pdfplumber) (2.4.0)\n",
      "Requirement already satisfied: pycryptodome in c:\\users\\abram\\miniconda3\\envs\\myenv\\lib\\site-packages (from pdfminer.six==20200517->pdfplumber) (3.12.0)\n",
      "Requirement already satisfied: chardet in c:\\users\\abram\\miniconda3\\envs\\myenv\\lib\\site-packages (from pdfminer.six==20200517->pdfplumber) (4.0.0)\n"
     ]
    }
   ],
   "source": [
    "pip install pdfplumber"
   ]
  },
  {
   "cell_type": "code",
   "execution_count": 34,
   "id": "147ed695-fcab-4e8e-9d6e-55dc49831226",
   "metadata": {},
   "outputs": [],
   "source": [
    "import pdfplumber\n",
    "import pandas as pd\n",
    "import regex as re\n",
    "from collections import namedtuple"
   ]
  },
  {
   "cell_type": "markdown",
   "id": "3a04b73b-1010-4be9-bded-6478cb2f56ff",
   "metadata": {
    "tags": []
   },
   "source": [
    "# PDF data extraction"
   ]
  },
  {
   "cell_type": "code",
   "execution_count": 25,
   "id": "4d6ff419-e052-48a6-9ca6-f464e56bc64c",
   "metadata": {},
   "outputs": [],
   "source": [
    "Inv = namedtuple('Inv', 'Description Amount')"
   ]
  },
  {
   "cell_type": "markdown",
   "id": "4f0258f8-3aad-40a7-aa80-ecc7079c7a77",
   "metadata": {},
   "source": [
    "<div class=\"alert alert-block alert-info\">\n",
    "<b>Note:</b> Open the file in Google Chrome, then copy and paste the URL of the file into the input below\n",
    "</div>"
   ]
  },
  {
   "cell_type": "code",
   "execution_count": 33,
   "id": "9b2d9207-d91a-4edb-8784-9ce36c27eb1c",
   "metadata": {},
   "outputs": [
    {
     "name": "stdin",
     "output_type": "stream",
     "text": [
      "Please paste URL for the BOFA statement here: file:///D:/Code/Python/Sage50AutomationTest/2009.pdf\n"
     ]
    },
    {
     "name": "stdout",
     "output_type": "stream",
     "text": [
      "file:///D:/Code/Python/Sage50AutomationTest/2009.pdf\n"
     ]
    }
   ],
   "source": [
    "filename = input(\"Please paste URL for the BOFA statement here:\")\n",
    "print(filename)"
   ]
  },
  {
   "cell_type": "code",
   "execution_count": 4,
   "id": "83795675-d060-4ec4-89dd-af590029acff",
   "metadata": {},
   "outputs": [],
   "source": [
    "invoice_url = filename[8:]"
   ]
  },
  {
   "cell_type": "code",
   "execution_count": 24,
   "id": "fb913e23-6031-4f84-a269-73975c675b87",
   "metadata": {
    "tags": []
   },
   "outputs": [],
   "source": [
    "with pdfplumber.open(invoice_url) as pdf:\n",
    "    # all_pages = pdf.pages[2]\n",
    "    # text = all_pages.extract_text()\n",
    "    all_text = '' # new line\n",
    "    for pdf_page in pdf.pages:\n",
    "        single_page_text = pdf_page.extract_text()\n",
    "        # print(single_page_text)\n",
    "        # separate each page's text with newline\n",
    "        all_text = all_text + '\\n' + single_page_text"
   ]
  },
  {
   "cell_type": "markdown",
   "id": "0ad5b352-66eb-45bb-b3d8-7fa972856793",
   "metadata": {},
   "source": [
    "<div class=\"alert alert-block alert-warning\">\n",
    "<b>Alert:</b> Change index2 for individual type of bank statement.\n",
    "</div>"
   ]
  },
  {
   "cell_type": "code",
   "execution_count": 23,
   "id": "9be7f4c3-9086-424e-8986-a9953f63fe86",
   "metadata": {},
   "outputs": [],
   "source": [
    "for row in all_text.split('\\n'):\n",
    "    # Change Withdrawals to match the correct format on type of bank statemetn\n",
    "    if row == 'Withdrawals and other subtractions':\n",
    "        index1 = all_text.index(row)\n",
    "    # Total other subtractions to be replaced by Checks to eliminate checks\n",
    "    if row.startswith('Total other subtractions'):\n",
    "        index2 = all_text.index(row)\n",
    "        text = all_text[index1:index2]"
   ]
  },
  {
   "cell_type": "code",
   "execution_count": 26,
   "id": "1065079e-20fd-40de-aec0-c404b9ba35b1",
   "metadata": {},
   "outputs": [],
   "source": [
    "payments = re.compile(r'^\\d+/\\d+/\\d+.*')"
   ]
  },
  {
   "cell_type": "markdown",
   "id": "cd945e85-a81b-4a2e-bd96-58b744cd4bf5",
   "metadata": {},
   "source": [
    "<div class=\"alert alert-block alert-info\">\n",
    "<b>Note:</b> List of withdrawals can be checked in the printout below.\n",
    "</div>"
   ]
  },
  {
   "cell_type": "code",
   "execution_count": 8,
   "id": "09b6f68d-f28b-46ab-af17-d081710855c8",
   "metadata": {},
   "outputs": [
    {
     "name": "stdout",
     "output_type": "stream",
     "text": [
      "08/23/21 PMNT SENT  0821 VENMO 8558124430   NY 55480771233602162274972 -2.00\n",
      "08/23/21 PMNT SENT  0823 VENMO 8558124430   NY 55480771235602370914904 -6.20\n",
      "09/08/21 PMNT SENT  0907 VENMO 8558124430   NY 55480771250602837881183 -38.39\n",
      "09/13/21 PURCHASE   0911 Groupon, Inc. 312-288-6424 IL -13.00\n",
      "09/15/21 PMNT SENT  0914 VENMO 8558124430   NY 55480771257602530475948 -10.33\n",
      "09/15/21 PMNT SENT  0914 VENMO 8558124430   NY 55480771257602531985192 -11.19\n",
      "08/23/21 Online Banking Transfer Conf# hnj6uhpv1; Qiu -90.00\n",
      "08/25/21 Bank of America Credit Card Bill Payment -196.31\n",
      "08/26/21 VANGUARD BUY     DES:INVESTMENT ID:706047130002019  INDN:ABRAM ZHENYU QIU        CO -250.00\n",
      "09/03/21 Latitude Med Cen DES:Rent       ID:XXXXXXXXX  INDN:Abram Qiu               CO ID:1861072180 WEB -1,116.62\n",
      "09/07/21 Bank of America Credit Card Bill Payment -347.50\n",
      "09/10/21 VANGUARD BUY     DES:INVESTMENT ID:706047130002019  INDN:ABRAM ZHENYU QIU        CO -250.00\n",
      "09/21/21 Bank of America Credit Card Bill Payment -254.46\n"
     ]
    }
   ],
   "source": [
    "for line in text.split('\\n'):\n",
    "    if payments.match(line):\n",
    "        print(line)"
   ]
  },
  {
   "cell_type": "code",
   "execution_count": 9,
   "id": "e11a69b8-44c1-4438-b4e7-ff9c9968f385",
   "metadata": {},
   "outputs": [],
   "source": [
    "for line in text.split('\\n'):\n",
    "    if payments.match(line):\n",
    "        vend_date, *vend_des, vend_cost = line.split()\n",
    "        vend_des = ' '.join(vend_des)\n",
    "        # print(vend_des, vend_cost)"
   ]
  },
  {
   "cell_type": "code",
   "execution_count": 10,
   "id": "6250e7b0-3381-445e-b36d-fd3e32a68cd8",
   "metadata": {},
   "outputs": [],
   "source": [
    "line_items = []\n",
    "for line in text.split('\\n'):\n",
    "    if payments.match(line):\n",
    "        vend_date, *vend_des, vend_cost = line.split()\n",
    "        vend_des = ' '.join(vend_des)\n",
    "        vend_cost = float(vend_cost.replace(',', ''))*-1\n",
    "        line_items.append(Inv(vend_des, vend_cost))"
   ]
  },
  {
   "cell_type": "code",
   "execution_count": 12,
   "id": "447528aa-99f3-41fa-8ee4-b3294be48448",
   "metadata": {},
   "outputs": [
    {
     "data": {
      "text/html": [
       "<div>\n",
       "<style scoped>\n",
       "    .dataframe tbody tr th:only-of-type {\n",
       "        vertical-align: middle;\n",
       "    }\n",
       "\n",
       "    .dataframe tbody tr th {\n",
       "        vertical-align: top;\n",
       "    }\n",
       "\n",
       "    .dataframe thead th {\n",
       "        text-align: right;\n",
       "    }\n",
       "</style>\n",
       "<table border=\"1\" class=\"dataframe\">\n",
       "  <thead>\n",
       "    <tr style=\"text-align: right;\">\n",
       "      <th></th>\n",
       "      <th>Description</th>\n",
       "      <th>Amount</th>\n",
       "    </tr>\n",
       "  </thead>\n",
       "  <tbody>\n",
       "    <tr>\n",
       "      <th>0</th>\n",
       "      <td>PMNT SENT 0821 VENMO 8558124430 NY 55480771233...</td>\n",
       "      <td>2.00</td>\n",
       "    </tr>\n",
       "    <tr>\n",
       "      <th>1</th>\n",
       "      <td>PMNT SENT 0823 VENMO 8558124430 NY 55480771235...</td>\n",
       "      <td>6.20</td>\n",
       "    </tr>\n",
       "    <tr>\n",
       "      <th>2</th>\n",
       "      <td>PMNT SENT 0907 VENMO 8558124430 NY 55480771250...</td>\n",
       "      <td>38.39</td>\n",
       "    </tr>\n",
       "    <tr>\n",
       "      <th>3</th>\n",
       "      <td>PURCHASE 0911 Groupon, Inc. 312-288-6424 IL</td>\n",
       "      <td>13.00</td>\n",
       "    </tr>\n",
       "    <tr>\n",
       "      <th>4</th>\n",
       "      <td>PMNT SENT 0914 VENMO 8558124430 NY 55480771257...</td>\n",
       "      <td>10.33</td>\n",
       "    </tr>\n",
       "  </tbody>\n",
       "</table>\n",
       "</div>"
      ],
      "text/plain": [
       "                                         Description  Amount\n",
       "0  PMNT SENT 0821 VENMO 8558124430 NY 55480771233...    2.00\n",
       "1  PMNT SENT 0823 VENMO 8558124430 NY 55480771235...    6.20\n",
       "2  PMNT SENT 0907 VENMO 8558124430 NY 55480771250...   38.39\n",
       "3        PURCHASE 0911 Groupon, Inc. 312-288-6424 IL   13.00\n",
       "4  PMNT SENT 0914 VENMO 8558124430 NY 55480771257...   10.33"
      ]
     },
     "execution_count": 12,
     "metadata": {},
     "output_type": "execute_result"
    }
   ],
   "source": [
    "df = pd.DataFrame(line_items)\n",
    "df.head()"
   ]
  },
  {
   "cell_type": "markdown",
   "id": "a859b815-fdb1-44f5-b575-5c4d4885d753",
   "metadata": {},
   "source": [
    "# Data Preparation for Sage 50"
   ]
  },
  {
   "cell_type": "code",
   "execution_count": 28,
   "id": "3cba9229-8fbf-4151-8188-f1d0748b78b3",
   "metadata": {
    "tags": []
   },
   "outputs": [],
   "source": [
    "des_check = df.Description.to_string(index=False)"
   ]
  },
  {
   "cell_type": "markdown",
   "id": "7b8da22c-d119-4800-a1c3-d0a856c38c08",
   "metadata": {},
   "source": [
    "<div class=\"alert alert-block alert-warning\">\n",
    "<b>Alert:</b> Change the file path to the spreadsheet of vendor codes as needed.\n",
    "</div>"
   ]
  },
  {
   "cell_type": "code",
   "execution_count": 15,
   "id": "959ce1aa-6807-4c6b-aafe-c79430505201",
   "metadata": {},
   "outputs": [
    {
     "name": "stdout",
     "output_type": "stream",
     "text": [
      "{'venmo': '12345', 'online banking transfer': '70000', 'credit card bill payment': '246000', 'rent': '50000'}\n"
     ]
    }
   ],
   "source": [
    "d = dict()\n",
    "f = open(\"D:\\Code\\Python\\Sage50AutomationTest\\CodesDatabase_Test.csv\")\n",
    "for line in f:\n",
    "    line = line.strip('\\n')\n",
    "    (key, val) = line.split(\",\")\n",
    "    d[key] = val\n",
    "del d['ï»¿Keyword']\n",
    "print(d)"
   ]
  },
  {
   "cell_type": "code",
   "execution_count": 29,
   "id": "dbe614e1-1838-499e-8b6d-b2c04dcb1757",
   "metadata": {},
   "outputs": [],
   "source": [
    "codes = []\n",
    "for line in des_check.split('\\n'):\n",
    "    # print(line.lower())\n",
    "    indicator = False\n",
    "    for key in d:\n",
    "        if key in line.lower():\n",
    "            codes.append(d[key])\n",
    "            indicator = True\n",
    "    if indicator == False:\n",
    "        codes.append('24900')"
   ]
  },
  {
   "cell_type": "code",
   "execution_count": 32,
   "id": "a5ad3d34-0739-46e4-b2b4-cf4eecafe744",
   "metadata": {},
   "outputs": [
    {
     "data": {
      "text/html": [
       "<div>\n",
       "<style scoped>\n",
       "    .dataframe tbody tr th:only-of-type {\n",
       "        vertical-align: middle;\n",
       "    }\n",
       "\n",
       "    .dataframe tbody tr th {\n",
       "        vertical-align: top;\n",
       "    }\n",
       "\n",
       "    .dataframe thead th {\n",
       "        text-align: right;\n",
       "    }\n",
       "</style>\n",
       "<table border=\"1\" class=\"dataframe\">\n",
       "  <thead>\n",
       "    <tr style=\"text-align: right;\">\n",
       "      <th></th>\n",
       "      <th>Description</th>\n",
       "      <th>vendor_code</th>\n",
       "      <th>Amount</th>\n",
       "    </tr>\n",
       "  </thead>\n",
       "  <tbody>\n",
       "    <tr>\n",
       "      <th>0</th>\n",
       "      <td>PMNT SENT 0821 VENMO 8558124430 NY 55480771233...</td>\n",
       "      <td>12345</td>\n",
       "      <td>2.00</td>\n",
       "    </tr>\n",
       "    <tr>\n",
       "      <th>1</th>\n",
       "      <td>PMNT SENT 0823 VENMO 8558124430 NY 55480771235...</td>\n",
       "      <td>12345</td>\n",
       "      <td>6.20</td>\n",
       "    </tr>\n",
       "    <tr>\n",
       "      <th>2</th>\n",
       "      <td>PMNT SENT 0907 VENMO 8558124430 NY 55480771250...</td>\n",
       "      <td>12345</td>\n",
       "      <td>38.39</td>\n",
       "    </tr>\n",
       "    <tr>\n",
       "      <th>3</th>\n",
       "      <td>PURCHASE 0911 Groupon, Inc. 312-288-6424 IL</td>\n",
       "      <td>24900</td>\n",
       "      <td>13.00</td>\n",
       "    </tr>\n",
       "    <tr>\n",
       "      <th>4</th>\n",
       "      <td>PMNT SENT 0914 VENMO 8558124430 NY 55480771257...</td>\n",
       "      <td>12345</td>\n",
       "      <td>10.33</td>\n",
       "    </tr>\n",
       "  </tbody>\n",
       "</table>\n",
       "</div>"
      ],
      "text/plain": [
       "                                         Description vendor_code  Amount\n",
       "0  PMNT SENT 0821 VENMO 8558124430 NY 55480771233...       12345    2.00\n",
       "1  PMNT SENT 0823 VENMO 8558124430 NY 55480771235...       12345    6.20\n",
       "2  PMNT SENT 0907 VENMO 8558124430 NY 55480771250...       12345   38.39\n",
       "3        PURCHASE 0911 Groupon, Inc. 312-288-6424 IL       24900   13.00\n",
       "4  PMNT SENT 0914 VENMO 8558124430 NY 55480771257...       12345   10.33"
      ]
     },
     "execution_count": 32,
     "metadata": {},
     "output_type": "execute_result"
    }
   ],
   "source": [
    "df = df.assign(vendor_code=codes)\n",
    "df = df[['Description', 'vendor_code', 'Amount']]\n",
    "df.head()"
   ]
  },
  {
   "cell_type": "markdown",
   "id": "50c68cdc-6d1d-45e9-97f0-ae14c337dd50",
   "metadata": {},
   "source": [
    "### CSV file will be downloaded in next step."
   ]
  },
  {
   "cell_type": "code",
   "execution_count": null,
   "id": "33272b49-ff47-4954-98c9-6fda7683540b",
   "metadata": {},
   "outputs": [],
   "source": [
    "df.to_csv('inv_lines.csv', index=False)"
   ]
  }
 ],
 "metadata": {
  "kernelspec": {
   "display_name": "Python 3 (ipykernel)",
   "language": "python",
   "name": "python3"
  },
  "language_info": {
   "codemirror_mode": {
    "name": "ipython",
    "version": 3
   },
   "file_extension": ".py",
   "mimetype": "text/x-python",
   "name": "python",
   "nbconvert_exporter": "python",
   "pygments_lexer": "ipython3",
   "version": "3.9.7"
  }
 },
 "nbformat": 4,
 "nbformat_minor": 5
}
